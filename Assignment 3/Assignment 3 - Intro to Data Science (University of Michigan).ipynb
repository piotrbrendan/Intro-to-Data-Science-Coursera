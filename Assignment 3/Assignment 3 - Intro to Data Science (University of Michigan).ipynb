{
 "cells": [
  {
   "cell_type": "code",
   "execution_count": 97,
   "metadata": {
    "collapsed": true
   },
   "outputs": [],
   "source": [
    "import numpy as np\n",
    "import pandas as pd\n",
    "import matplotlib.pyplot as plt"
   ]
  },
  {
   "cell_type": "markdown",
   "metadata": {},
   "source": [
    "# Assignment 3 - More Pandas\n",
    "This assignment requires more individual learning then the last one did - you are encouraged to check out the [pandas documentation](http://pandas.pydata.org/pandas-docs/stable/) to find functions or methods you might not have used yet, or ask questions on [Stack Overflow](http://stackoverflow.com/) and tag them as pandas and python related. And of course, the discussion forums are open for interaction with your peers and the course staff."
   ]
  },
  {
   "cell_type": "markdown",
   "metadata": {},
   "source": [
    "#### Question 1 (20%)\n",
    "Load the energy data from the file Energy Indicators.xls, which is a list of indicators of energy supply and renewable electricity production from the United Nations for the year 2013, and should be put into a DataFrame with the variable name of energy.\n",
    "\n",
    "Keep in mind that this is an Excel file, and not a comma separated values file. Also, make sure to exclude the footer and header information from the datafile. The first two columns are unneccessary, so you should get rid of them, and you should change the column labels so that the columns are:\n",
    "\n",
    "['Country', 'Energy Supply', 'Energy Supply per Capita', '% Renewable']\n",
    "\n",
    "Convert Energy Supply to gigajoules (there are 1,000,000 gigajoules in a petajoule). For all countries which have missing data (e.g. data with \"...\") make sure this is reflected as np.NaN values.\n",
    "\n",
    "Rename the following list of countries (for use in later questions):\n",
    "\n",
    "\"Republic of Korea\": \"South Korea\",\n",
    "\"United States of America\": \"United States\",\n",
    "\"United Kingdom of Great Britain and Northern Ireland\": \"United Kingdom\",\n",
    "\"China, Hong Kong Special Administrative Region\": \"Hong Kong\"\n",
    "\n",
    "There are also several countries with numbers and/or parenthesis in their name. Be sure to remove these,\n",
    "\n",
    "e.g.\n",
    "\n",
    "'Bolivia (Plurinational State of)' should be 'Bolivia',\n",
    "\n",
    "'Switzerland17' should be 'Switzerland'.\n",
    "\n",
    "\n",
    "\n",
    "Next, load the GDP data from the file world_bank.csv, which is a csv containing countries' GDP from 1960 to 2015 from World Bank. Call this DataFrame GDP.\n",
    "\n",
    "Make sure to skip the header, and rename the following list of countries:\n",
    "\n",
    "\"Korea, Rep.\": \"South Korea\", \n",
    "\"Iran, Islamic Rep.\": \"Iran\",\n",
    "\"Hong Kong SAR, China\": \"Hong Kong\"\n",
    "\n",
    "\n",
    "\n",
    "Finally, load the Sciamgo Journal and Country Rank data for Energy Engineering and Power Technology from the file scimagojr-3.xlsx, which ranks countries based on their journal contributions in the aforementioned area. Call this DataFrame ScimEn.\n",
    "\n",
    "Join the three datasets: GDP, Energy, and ScimEn into a new dataset (using the intersection of country names). Use only the last 10 years (2006-2015) of GDP data and only the top 15 countries by Scimagojr 'Rank' (Rank 1 through 15).\n",
    "\n",
    "The index of this DataFrame should be the name of the country, and the columns should be ['Rank', 'Documents', 'Citable documents', 'Citations', 'Self-citations', 'Citations per document', 'H index', 'Energy Supply', 'Energy Supply per Capita', '% Renewable', '2006', '2007', '2008', '2009', '2010', '2011', '2012', '2013', '2014', '2015'].\n",
    "\n",
    "This function should return a DataFrame with 20 columns and 15 entries."
   ]
  },
  {
   "cell_type": "code",
   "execution_count": 8,
   "metadata": {
    "collapsed": true
   },
   "outputs": [],
   "source": [
    "def answer_one():\n",
    "    e_indc = pd.read_excel('Energy Indicators.xls',skiprows=17,skip_footer=38)\n",
    "    e_indc = e_indc.iloc[:,2:]\n",
    "    e_indc.columns=['Country', 'Energy Supply', 'Energy Supply per Capita', '% Renewable']\n",
    "\n",
    "    ## cleaning Country column from text in brackets:'()' and from any digits using regex:\n",
    "    Country_df = e_indc['Country'].str.extract('(.*)\\s\\(.*\\)|(\\D*)',expand=False)\n",
    "    e_indc['Country'] = Country_df[1].fillna(Country_df[0])\n",
    "\n",
    "    ## replace method to change names of certain countries\n",
    "    e_indc.replace({\"Country\":{\"Republic of Korea\": \"South Korea\",\n",
    "    \"United States of America\": \"United States\",\n",
    "    \"United Kingdom of Great Britain and Northern Ireland\": \"United Kingdom\",\n",
    "    \"China, Hong Kong Special Administrative Region\": \"Hong Kong\"}},inplace=True)\n",
    "\n",
    "    ## loading GDP dataset:\n",
    "    GDP = pd.read_csv('world_bank.csv',sep=',' ,skiprows=3)\n",
    "    GDP['Country Name'].replace({\"Korea, Rep.\": \"South Korea\", \n",
    "    \"Iran, Islamic Rep.\": \"Iran\",\n",
    "    \"Hong Kong SAR, China\": \"Hong Kong\"}, inplace = True)\n",
    "    GDP = GDP.iloc[:,:-1]\n",
    "    GDP = GDP.rename(columns={'Country Name': 'Country'})\n",
    "\n",
    "    ## choosing cols from 2006 to 2015 and Country Name\n",
    "    cols = [str(x) for x in range(2006,2016)]\n",
    "    cols=['Country'] + cols\n",
    "    GDP = GDP.loc[:,cols]\n",
    "\n",
    "    ## Loading Sciamgo Journal and Country Rank data for Energy Engineering and Power Technology\n",
    "    ScimEn = pd.read_excel('scimagojr.xlsx')\n",
    "    ## Selecting top 15 countries (dataset is already sorted)\n",
    "    ScimEn = ScimEn.iloc[:15,:]\n",
    "\n",
    "    renew_df = pd.merge(ScimEn, e_indc, on='Country',how = 'left')\n",
    "    renew_df = pd.merge(renew_df, GDP, left_on='Country', right_on = 'Country',how = 'left')\n",
    "    renew_df = renew_df.set_index('Country')\n",
    "    return renew_df"
   ]
  },
  {
   "cell_type": "code",
   "execution_count": 12,
   "metadata": {},
   "outputs": [
    {
     "data": {
      "text/html": [
       "<div>\n",
       "<style>\n",
       "    .dataframe thead tr:only-child th {\n",
       "        text-align: right;\n",
       "    }\n",
       "\n",
       "    .dataframe thead th {\n",
       "        text-align: left;\n",
       "    }\n",
       "\n",
       "    .dataframe tbody tr th {\n",
       "        vertical-align: top;\n",
       "    }\n",
       "</style>\n",
       "<table border=\"1\" class=\"dataframe\">\n",
       "  <thead>\n",
       "    <tr style=\"text-align: right;\">\n",
       "      <th></th>\n",
       "      <th>Rank</th>\n",
       "      <th>Documents</th>\n",
       "      <th>Citable documents</th>\n",
       "      <th>Citations</th>\n",
       "      <th>Self-citations</th>\n",
       "      <th>Citations per document</th>\n",
       "      <th>H index</th>\n",
       "      <th>Energy Supply</th>\n",
       "      <th>Energy Supply per Capita</th>\n",
       "      <th>% Renewable</th>\n",
       "      <th>2006</th>\n",
       "      <th>2007</th>\n",
       "      <th>2008</th>\n",
       "      <th>2009</th>\n",
       "      <th>2010</th>\n",
       "      <th>2011</th>\n",
       "      <th>2012</th>\n",
       "      <th>2013</th>\n",
       "      <th>2014</th>\n",
       "      <th>2015</th>\n",
       "    </tr>\n",
       "    <tr>\n",
       "      <th>Country</th>\n",
       "      <th></th>\n",
       "      <th></th>\n",
       "      <th></th>\n",
       "      <th></th>\n",
       "      <th></th>\n",
       "      <th></th>\n",
       "      <th></th>\n",
       "      <th></th>\n",
       "      <th></th>\n",
       "      <th></th>\n",
       "      <th></th>\n",
       "      <th></th>\n",
       "      <th></th>\n",
       "      <th></th>\n",
       "      <th></th>\n",
       "      <th></th>\n",
       "      <th></th>\n",
       "      <th></th>\n",
       "      <th></th>\n",
       "      <th></th>\n",
       "    </tr>\n",
       "  </thead>\n",
       "  <tbody>\n",
       "    <tr>\n",
       "      <th>China</th>\n",
       "      <td>1</td>\n",
       "      <td>147887</td>\n",
       "      <td>147512</td>\n",
       "      <td>856806</td>\n",
       "      <td>583858</td>\n",
       "      <td>5.79</td>\n",
       "      <td>162</td>\n",
       "      <td>127191</td>\n",
       "      <td>93</td>\n",
       "      <td>19.75491</td>\n",
       "      <td>2.752132e+12</td>\n",
       "      <td>3.552182e+12</td>\n",
       "      <td>4.598206e+12</td>\n",
       "      <td>5.109954e+12</td>\n",
       "      <td>6.100620e+12</td>\n",
       "      <td>7.572554e+12</td>\n",
       "      <td>8.560547e+12</td>\n",
       "      <td>9.607224e+12</td>\n",
       "      <td>1.048237e+13</td>\n",
       "      <td>1.106467e+13</td>\n",
       "    </tr>\n",
       "    <tr>\n",
       "      <th>United States</th>\n",
       "      <td>2</td>\n",
       "      <td>113579</td>\n",
       "      <td>111426</td>\n",
       "      <td>1085684</td>\n",
       "      <td>370574</td>\n",
       "      <td>9.56</td>\n",
       "      <td>259</td>\n",
       "      <td>90838</td>\n",
       "      <td>286</td>\n",
       "      <td>11.57098</td>\n",
       "      <td>1.385589e+13</td>\n",
       "      <td>1.447764e+13</td>\n",
       "      <td>1.471858e+13</td>\n",
       "      <td>1.441874e+13</td>\n",
       "      <td>1.496437e+13</td>\n",
       "      <td>1.551793e+13</td>\n",
       "      <td>1.615526e+13</td>\n",
       "      <td>1.669152e+13</td>\n",
       "      <td>1.739310e+13</td>\n",
       "      <td>1.812071e+13</td>\n",
       "    </tr>\n",
       "    <tr>\n",
       "      <th>Japan</th>\n",
       "      <td>3</td>\n",
       "      <td>34294</td>\n",
       "      <td>34054</td>\n",
       "      <td>275980</td>\n",
       "      <td>73491</td>\n",
       "      <td>8.05</td>\n",
       "      <td>145</td>\n",
       "      <td>18984</td>\n",
       "      <td>149</td>\n",
       "      <td>10.23282</td>\n",
       "      <td>4.530377e+12</td>\n",
       "      <td>4.515265e+12</td>\n",
       "      <td>5.037908e+12</td>\n",
       "      <td>5.231383e+12</td>\n",
       "      <td>5.700098e+12</td>\n",
       "      <td>6.157460e+12</td>\n",
       "      <td>6.203213e+12</td>\n",
       "      <td>5.155717e+12</td>\n",
       "      <td>4.848733e+12</td>\n",
       "      <td>4.383076e+12</td>\n",
       "    </tr>\n",
       "    <tr>\n",
       "      <th>United Kingdom</th>\n",
       "      <td>4</td>\n",
       "      <td>24328</td>\n",
       "      <td>23671</td>\n",
       "      <td>278694</td>\n",
       "      <td>52119</td>\n",
       "      <td>11.46</td>\n",
       "      <td>159</td>\n",
       "      <td>7920</td>\n",
       "      <td>124</td>\n",
       "      <td>10.60047</td>\n",
       "      <td>2.692613e+12</td>\n",
       "      <td>3.074360e+12</td>\n",
       "      <td>2.890564e+12</td>\n",
       "      <td>2.382826e+12</td>\n",
       "      <td>2.441173e+12</td>\n",
       "      <td>2.619700e+12</td>\n",
       "      <td>2.662085e+12</td>\n",
       "      <td>2.739819e+12</td>\n",
       "      <td>3.022828e+12</td>\n",
       "      <td>2.885570e+12</td>\n",
       "    </tr>\n",
       "    <tr>\n",
       "      <th>India</th>\n",
       "      <td>5</td>\n",
       "      <td>21450</td>\n",
       "      <td>21183</td>\n",
       "      <td>179494</td>\n",
       "      <td>54929</td>\n",
       "      <td>8.37</td>\n",
       "      <td>132</td>\n",
       "      <td>33195</td>\n",
       "      <td>26</td>\n",
       "      <td>14.96908</td>\n",
       "      <td>9.203165e+11</td>\n",
       "      <td>1.201112e+12</td>\n",
       "      <td>1.186953e+12</td>\n",
       "      <td>1.323940e+12</td>\n",
       "      <td>1.656617e+12</td>\n",
       "      <td>1.823050e+12</td>\n",
       "      <td>1.827638e+12</td>\n",
       "      <td>1.856722e+12</td>\n",
       "      <td>2.035393e+12</td>\n",
       "      <td>2.089865e+12</td>\n",
       "    </tr>\n",
       "  </tbody>\n",
       "</table>\n",
       "</div>"
      ],
      "text/plain": [
       "                Rank  Documents  Citable documents  Citations  Self-citations  \\\n",
       "Country                                                                         \n",
       "China              1     147887             147512     856806          583858   \n",
       "United States      2     113579             111426    1085684          370574   \n",
       "Japan              3      34294              34054     275980           73491   \n",
       "United Kingdom     4      24328              23671     278694           52119   \n",
       "India              5      21450              21183     179494           54929   \n",
       "\n",
       "                Citations per document  H index Energy Supply  \\\n",
       "Country                                                         \n",
       "China                             5.79      162        127191   \n",
       "United States                     9.56      259         90838   \n",
       "Japan                             8.05      145         18984   \n",
       "United Kingdom                   11.46      159          7920   \n",
       "India                             8.37      132         33195   \n",
       "\n",
       "               Energy Supply per Capita  % Renewable          2006  \\\n",
       "Country                                                              \n",
       "China                                93     19.75491  2.752132e+12   \n",
       "United States                       286     11.57098  1.385589e+13   \n",
       "Japan                               149     10.23282  4.530377e+12   \n",
       "United Kingdom                      124     10.60047  2.692613e+12   \n",
       "India                                26     14.96908  9.203165e+11   \n",
       "\n",
       "                        2007          2008          2009          2010  \\\n",
       "Country                                                                  \n",
       "China           3.552182e+12  4.598206e+12  5.109954e+12  6.100620e+12   \n",
       "United States   1.447764e+13  1.471858e+13  1.441874e+13  1.496437e+13   \n",
       "Japan           4.515265e+12  5.037908e+12  5.231383e+12  5.700098e+12   \n",
       "United Kingdom  3.074360e+12  2.890564e+12  2.382826e+12  2.441173e+12   \n",
       "India           1.201112e+12  1.186953e+12  1.323940e+12  1.656617e+12   \n",
       "\n",
       "                        2011          2012          2013          2014  \\\n",
       "Country                                                                  \n",
       "China           7.572554e+12  8.560547e+12  9.607224e+12  1.048237e+13   \n",
       "United States   1.551793e+13  1.615526e+13  1.669152e+13  1.739310e+13   \n",
       "Japan           6.157460e+12  6.203213e+12  5.155717e+12  4.848733e+12   \n",
       "United Kingdom  2.619700e+12  2.662085e+12  2.739819e+12  3.022828e+12   \n",
       "India           1.823050e+12  1.827638e+12  1.856722e+12  2.035393e+12   \n",
       "\n",
       "                        2015  \n",
       "Country                       \n",
       "China           1.106467e+13  \n",
       "United States   1.812071e+13  \n",
       "Japan           4.383076e+12  \n",
       "United Kingdom  2.885570e+12  \n",
       "India           2.089865e+12  "
      ]
     },
     "execution_count": 12,
     "metadata": {},
     "output_type": "execute_result"
    }
   ],
   "source": [
    "renew_df = answer_one()\n",
    "renew_df.head()"
   ]
  },
  {
   "cell_type": "markdown",
   "metadata": {},
   "source": [
    "#### Question 3 (6.6%)\n",
    "What is the average GDP over the last 10 years for each country? (exclude missing values from this calculation.)\n"
   ]
  },
  {
   "cell_type": "code",
   "execution_count": 26,
   "metadata": {},
   "outputs": [
    {
     "data": {
      "text/plain": [
       "Country\n",
       "United States        15,631,373,100,000\n",
       "China                 6,940,045,830,019\n",
       "Japan                 5,176,323,047,989\n",
       "Germany               3,535,027,868,981\n",
       "United Kingdom        2,741,153,850,292\n",
       "France                2,688,772,943,597\n",
       "Italy                 2,131,032,197,106\n",
       "Brazil                1,989,028,349,915\n",
       "Russian Federation    1,668,661,354,760\n",
       "Canada                1,611,539,657,161\n",
       "India                 1,592,160,720,392\n",
       "Spain                 1,407,026,614,437\n",
       "Australia             1,202,762,833,520\n",
       "South Korea           1,165,810,385,851\n",
       "Iran                    439,349,783,035\n",
       "dtype: float64"
      ]
     },
     "execution_count": 26,
     "metadata": {},
     "output_type": "execute_result"
    }
   ],
   "source": [
    "pd.options.display.float_format = '{:,.0f}'.format\n",
    "avgGDP = renew_df.loc[:,'2006':].apply(np.mean,axis=1).sort_values(ascending = False)\n",
    "avgGDP"
   ]
  },
  {
   "cell_type": "markdown",
   "metadata": {
    "collapsed": true
   },
   "source": [
    "#### Question 4 (6.6%)\n",
    "By how much had the GDP changed over the 10 year span for the country with the 6th largest average GDP?"
   ]
  },
  {
   "cell_type": "code",
   "execution_count": 48,
   "metadata": {},
   "outputs": [
    {
     "data": {
      "text/plain": [
       "108550097312.71973"
      ]
     },
     "execution_count": 48,
     "metadata": {},
     "output_type": "execute_result"
    }
   ],
   "source": [
    "### 1st approach\n",
    "np.diff(renew_df.loc[avgGDP.index[5],['2006','2015']])\n",
    "### 2nd approach\n",
    "GDP_change = renew_df['2015'] - renew_df['2006']\n",
    "GDP_change[avgGDP.index[5]]"
   ]
  },
  {
   "cell_type": "markdown",
   "metadata": {},
   "source": [
    "#### Question 5 (6.6%)\n",
    "What is the mean `Energy Supply per Capita`?\n"
   ]
  },
  {
   "cell_type": "code",
   "execution_count": 50,
   "metadata": {},
   "outputs": [
    {
     "data": {
      "text/plain": [
       "157.59999999999999"
      ]
     },
     "execution_count": 50,
     "metadata": {},
     "output_type": "execute_result"
    }
   ],
   "source": [
    "renew_df['Energy Supply per Capita'].mean()"
   ]
  },
  {
   "cell_type": "markdown",
   "metadata": {},
   "source": [
    "#### Question 6 (6.6%)\n",
    "What country has the maximum % Renewable and what is the percentage?\n"
   ]
  },
  {
   "cell_type": "code",
   "execution_count": 53,
   "metadata": {},
   "outputs": [
    {
     "data": {
      "text/plain": [
       "('Brazil', 69.648030000000006)"
      ]
     },
     "execution_count": 53,
     "metadata": {},
     "output_type": "execute_result"
    }
   ],
   "source": [
    "renew_df['% Renewable'].argmax(), renew_df['% Renewable'].max()"
   ]
  },
  {
   "cell_type": "markdown",
   "metadata": {},
   "source": [
    "#### Question 7 (6.6%)\n",
    "Create a new column that is the ratio of Self-Citations to Total Citations. \n",
    "What is the maximum value for this new column, and what country has the highest ratio?"
   ]
  },
  {
   "cell_type": "code",
   "execution_count": 61,
   "metadata": {},
   "outputs": [
    {
     "data": {
      "text/plain": [
       "('China', 68.143547080669364)"
      ]
     },
     "execution_count": 61,
     "metadata": {},
     "output_type": "execute_result"
    }
   ],
   "source": [
    "renew_df['%Self to Total Citations'] = renew_df['Self-citations']/renew_df['Citations']*100\n",
    "renew_df['%Self to Total Citations'].argmax(), renew_df['%Self to Total Citations'].max()"
   ]
  },
  {
   "cell_type": "markdown",
   "metadata": {},
   "source": [
    "#### Question 8 (6.6%)\n",
    "\n",
    "Create a column that estimates the population using Energy Supply and Energy Supply per capita. \n",
    "What is the third most populous country according to this estimate?\n",
    "\n",
    "*This function should return a single string value.*"
   ]
  },
  {
   "cell_type": "code",
   "execution_count": 62,
   "metadata": {},
   "outputs": [
    {
     "data": {
      "text/plain": [
       "'United States'"
      ]
     },
     "execution_count": 62,
     "metadata": {},
     "output_type": "execute_result"
    }
   ],
   "source": [
    "renew_df['Population_est'] = renew_df['Energy Supply'] / renew_df['Energy Supply per Capita'] \n",
    "renew_df['Population_est'].sort_values(axis=0,ascending=False).index[2]"
   ]
  },
  {
   "cell_type": "markdown",
   "metadata": {},
   "source": [
    "#### Question 9 (6.6%)\n",
    "Create a column that estimates the number of citable documents per person. \n",
    "What is the correlation between the number of citable documents per capita and the energy supply per capita? Use the `.corr()` method, (Pearson's correlation)."
   ]
  },
  {
   "cell_type": "code",
   "execution_count": 83,
   "metadata": {},
   "outputs": [],
   "source": [
    "mask = renew_df.dtypes == 'object'"
   ]
  },
  {
   "cell_type": "code",
   "execution_count": 93,
   "metadata": {},
   "outputs": [],
   "source": [
    "renew_df[mask.index[mask]] = renew_df[mask.index[mask]].astype(float)"
   ]
  },
  {
   "cell_type": "code",
   "execution_count": 94,
   "metadata": {
    "scrolled": true
   },
   "outputs": [
    {
     "data": {
      "text/plain": [
       "-0.38898861082880276"
      ]
     },
     "execution_count": 94,
     "metadata": {},
     "output_type": "execute_result"
    }
   ],
   "source": [
    "renew_df['No of cit doc per person'] = renew_df['Citable documents']/ renew_df['Energy Supply per Capita']\n",
    "renew_df['No of cit doc per person'].corr(renew_df['Energy Supply per Capita'])"
   ]
  },
  {
   "cell_type": "code",
   "execution_count": 102,
   "metadata": {},
   "outputs": [
    {
     "data": {
      "image/png": "[encoded data removed]",
      "text/plain": [
       "<matplotlib.figure.Figure at 0x65fb620198>"
      ]
     },
     "metadata": {},
     "output_type": "display_data"
    }
   ],
   "source": [
    "renew_df.plot.scatter(x='No of cit doc per person',y = 'Energy Supply per Capita')\n",
    "plt.show()"
   ]
  },
  {
   "cell_type": "markdown",
   "metadata": {},
   "source": [
    "#### Question 10 (6.6%)\n",
    "Create a new column with a 1 if the country's % Renewable value is at or above the median for all countries in the top 15, and a 0 if the country's % Renewable value is below the median."
   ]
  },
  {
   "cell_type": "code",
   "execution_count": 112,
   "metadata": {},
   "outputs": [
    {
     "data": {
      "text/plain": [
       "Country\n",
       "China                 1\n",
       "United States         0\n",
       "Japan                 0\n",
       "United Kingdom        0\n",
       "India                 0\n",
       "Russian Federation    1\n",
       "Germany               1\n",
       "Canada                1\n",
       "France                0\n",
       "South Korea           0\n",
       "Italy                 1\n",
       "Spain                 1\n",
       "Iran                  0\n",
       "Australia             0\n",
       "Brazil                1\n",
       "Name: %Renewable above median, dtype: int32"
      ]
     },
     "execution_count": 112,
     "metadata": {},
     "output_type": "execute_result"
    }
   ],
   "source": [
    "renew_df['%Renewable above median'] = renew_df['% Renewable'].map(lambda x: x> np.median(renew_df['% Renewable']))\n",
    "renew_df['%Renewable above median'].astype(int)"
   ]
  },
  {
   "cell_type": "markdown",
   "metadata": {},
   "source": [
    "### Question 11 (6.6%)\n",
    "Use the following dictionary to group the Countries by Continent, then create a dateframe that displays the sample size (the number of countries in each continent bin), and the sum, mean, and std deviation for the estimated population of each country.\n",
    "\n",
    "```python\n",
    "ContinentDict  = {'China':'Asia', \n",
    "                  'United States':'North America', \n",
    "                  'Japan':'Asia', \n",
    "                  'United Kingdom':'Europe', \n",
    "                  'Russian Federation':'Europe', \n",
    "                  'Canada':'North America', \n",
    "                  'Germany':'Europe', \n",
    "                  'India':'Asia',\n",
    "                  'France':'Europe', \n",
    "                  'South Korea':'Asia', \n",
    "                  'Italy':'Europe', \n",
    "                  'Spain':'Europe', \n",
    "                  'Iran':'Asia',\n",
    "                  'Australia':'Australia', \n",
    "                  'Brazil':'South America'}\n",
    "```\n",
    "\n",
    "*This function should return a DataFrame with index named Continent `['Asia', 'Australia', 'Europe', 'North America', 'South America']` and columns `['size', 'sum', 'mean', 'std']`*"
   ]
  },
  {
   "cell_type": "code",
   "execution_count": 113,
   "metadata": {
    "collapsed": true
   },
   "outputs": [],
   "source": [
    "ContinentDict  = {'China':'Asia', \n",
    "                  'United States':'North America', \n",
    "                  'Japan':'Asia', \n",
    "                  'United Kingdom':'Europe', \n",
    "                  'Russian Federation':'Europe', \n",
    "                  'Canada':'North America', \n",
    "                  'Germany':'Europe', \n",
    "                  'India':'Asia',\n",
    "                  'France':'Europe', \n",
    "                  'South Korea':'Asia', \n",
    "                  'Italy':'Europe', \n",
    "                  'Spain':'Europe', \n",
    "                  'Iran':'Asia',\n",
    "                  'Australia':'Australia', \n",
    "                  'Brazil':'South America'}"
   ]
  },
  {
   "cell_type": "code",
   "execution_count": 114,
   "metadata": {
    "collapsed": true
   },
   "outputs": [],
   "source": [
    "renew_df['Continent'] = [ContinentDict[x] for x in renew_df.index]"
   ]
  },
  {
   "cell_type": "code",
   "execution_count": 131,
   "metadata": {
    "scrolled": true
   },
   "outputs": [
    {
     "data": {
      "text/html": [
       "<div>\n",
       "<style>\n",
       "    .dataframe thead tr:only-child th {\n",
       "        text-align: right;\n",
       "    }\n",
       "\n",
       "    .dataframe thead th {\n",
       "        text-align: left;\n",
       "    }\n",
       "\n",
       "    .dataframe tbody tr th {\n",
       "        vertical-align: top;\n",
       "    }\n",
       "</style>\n",
       "<table border=\"1\" class=\"dataframe\">\n",
       "  <thead>\n",
       "    <tr style=\"text-align: right;\">\n",
       "      <th></th>\n",
       "      <th>size</th>\n",
       "      <th>mean</th>\n",
       "      <th>sum</th>\n",
       "      <th>std</th>\n",
       "    </tr>\n",
       "    <tr>\n",
       "      <th>Continent</th>\n",
       "      <th></th>\n",
       "      <th></th>\n",
       "      <th></th>\n",
       "      <th></th>\n",
       "    </tr>\n",
       "  </thead>\n",
       "  <tbody>\n",
       "    <tr>\n",
       "      <th>Asia</th>\n",
       "      <td>5</td>\n",
       "      <td>580</td>\n",
       "      <td>2,899</td>\n",
       "      <td>607</td>\n",
       "    </tr>\n",
       "    <tr>\n",
       "      <th>Australia</th>\n",
       "      <td>1</td>\n",
       "      <td>23</td>\n",
       "      <td>23</td>\n",
       "      <td>0</td>\n",
       "    </tr>\n",
       "    <tr>\n",
       "      <th>Europe</th>\n",
       "      <td>6</td>\n",
       "      <td>76</td>\n",
       "      <td>458</td>\n",
       "      <td>32</td>\n",
       "    </tr>\n",
       "    <tr>\n",
       "      <th>North America</th>\n",
       "      <td>2</td>\n",
       "      <td>176</td>\n",
       "      <td>353</td>\n",
       "      <td>141</td>\n",
       "    </tr>\n",
       "    <tr>\n",
       "      <th>South America</th>\n",
       "      <td>1</td>\n",
       "      <td>206</td>\n",
       "      <td>206</td>\n",
       "      <td>0</td>\n",
       "    </tr>\n",
       "  </tbody>\n",
       "</table>\n",
       "</div>"
      ],
      "text/plain": [
       "               size  mean   sum  std\n",
       "Continent                           \n",
       "Asia              5   580 2,899  607\n",
       "Australia         1    23    23    0\n",
       "Europe            6    76   458   32\n",
       "North America     2   176   353  141\n",
       "South America     1   206   206    0"
      ]
     },
     "execution_count": 131,
     "metadata": {},
     "output_type": "execute_result"
    }
   ],
   "source": [
    "#1st approach\n",
    "continents_grouped = renew_df.groupby(['Continent'])\n",
    "\n",
    "Continents = pd.DataFrame({'size':continents_grouped.size()})\n",
    "Continents['sum'] = continents_grouped['Population_est'].apply(sum)\n",
    "Continents['mean'] = continents_grouped['Population_est'].apply(np.mean)\n",
    "Continents['std'] = continents_grouped['Population_est'].apply(np.std) \n",
    "\n",
    "\n",
    "#2nd approach\n",
    "renew_df.pivot_table(values = 'Population_est',index='Continent',aggfunc = [np.size,np.mean, np.sum,np.std])    \n",
    "\n",
    "\n",
    "\n",
    "#3rd approach:\n",
    "def basic_stats(df): \n",
    "    \n",
    "    output={'size': np.size(df['Population_est']),\n",
    "           'mean': np.mean(df['Population_est']),\n",
    "           'sum': np.sum(df['Population_est']),\n",
    "           'std': np.std(df['Population_est'])}\n",
    "    \n",
    "    return pd.Series(output,index =['size','mean','sum','std'] )\n",
    "\n",
    "Continent_stats = renew_df.groupby('Continent').apply(basic_stats)  \n",
    "Continent_stats"
   ]
  },
  {
   "cell_type": "markdown",
   "metadata": {},
   "source": [
    "#### Question 12 (6.6%)\n",
    "Cut % Renewable into 5 bins. Group Top15 by the Continent, as well as these new % Renewable bins. How many countries are in each of these groups?\n"
   ]
  },
  {
   "cell_type": "code",
   "execution_count": 137,
   "metadata": {
    "scrolled": true
   },
   "outputs": [],
   "source": [
    "renew_df['% Renewable cat'] = pd.cut(renew_df['% Renewable'],bins = 5,precision = 0)"
   ]
  },
  {
   "cell_type": "code",
   "execution_count": 139,
   "metadata": {},
   "outputs": [
    {
     "data": {
      "text/plain": [
       "Continent      % Renewable cat\n",
       "Asia           (2.0, 16.0]        4\n",
       "               (16.0, 29.0]       1\n",
       "Australia      (2.0, 16.0]        1\n",
       "Europe         (2.0, 16.0]        1\n",
       "               (16.0, 29.0]       3\n",
       "               (29.0, 43.0]       2\n",
       "North America  (2.0, 16.0]        1\n",
       "               (56.0, 70.0]       1\n",
       "South America  (56.0, 70.0]       1\n",
       "dtype: int64"
      ]
     },
     "execution_count": 139,
     "metadata": {},
     "output_type": "execute_result"
    }
   ],
   "source": [
    "renew_df.groupby(['Continent','% Renewable cat']).size()"
   ]
  },
  {
   "cell_type": "markdown",
   "metadata": {},
   "source": [
    "#### Question 13 (6.6%)\n",
    "Convert the Population Estimate series to a string with thousands separator (using commas). Do not round the results.\n",
    "\n",
    "e.g. 317615384.61538464 -> 317,615,384.61538464\n"
   ]
  },
  {
   "cell_type": "code",
   "execution_count": 158,
   "metadata": {},
   "outputs": [
    {
     "data": {
      "text/plain": [
       "Country\n",
       "China                 1,367.65\n",
       "United States           317.62\n",
       "Japan                   127.41\n",
       "United Kingdom           63.87\n",
       "India                 1,276.73\n",
       "Russian Federation      143.50\n",
       "Germany                  80.37\n",
       "Canada                   35.24\n",
       "France                   63.84\n",
       "South Korea              49.81\n",
       "Italy                    59.91\n",
       "Spain                    46.44\n",
       "Iran                     77.08\n",
       "Australia                23.32\n",
       "Brazil                  205.92\n",
       "Name: Population_est, dtype: object"
      ]
     },
     "execution_count": 158,
     "metadata": {},
     "output_type": "execute_result"
    }
   ],
   "source": [
    "renew_df['Population_est'].apply(lambda x: \"{:,.2f}\".format(x))"
   ]
  }
 ],
 "metadata": {
  "kernelspec": {
   "display_name": "Python 3",
   "language": "python",
   "name": "python3"
  },
  "language_info": {
   "codemirror_mode": {
    "name": "ipython",
    "version": 3
   },
   "file_extension": ".py",
   "mimetype": "text/x-python",
   "name": "python",
   "nbconvert_exporter": "python",
   "pygments_lexer": "ipython3",
   "version": "3.6.3"
  }
 },
 "nbformat": 4,
 "nbformat_minor": 2
}
